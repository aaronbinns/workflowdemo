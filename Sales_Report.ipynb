{
 "cells": [
  {
   "cell_type": "code",
   "execution_count": 0,
   "metadata": {
    "application/vnd.databricks.v1+cell": {
     "cellMetadata": {},
     "inputWidgets": {},
     "nuid": "a3d46a88-e259-49ff-bfc9-33b7d343f04f",
     "showTitle": false,
     "tableResultSettingsMap": {},
     "title": ""
    }
   },
   "outputs": [],
   "source": [
    "create or replace table bakehouse_sales_report\n",
    "select bakehouse_franchises.name as franchise_name,\n",
    "       sum( totalPrice ) as total_sales\n",
    "from bakehouse_transactions\n",
    "join bakehouse_franchises on bakehouse_franchises.franchiseID = bakehouse_transactions.franchiseID\n",
    "group by bakehouse_franchises.name\n",
    ";"
   ]
  }
 ],
 "metadata": {
  "application/vnd.databricks.v1+notebook": {
   "computePreferences": null,
   "dashboards": [],
   "environmentMetadata": {
    "base_environment": "",
    "environment_version": "2"
   },
   "language": "sql",
   "notebookMetadata": {
    "pythonIndentUnit": 4
   },
   "notebookName": "Sales_Report",
   "widgets": {}
  },
  "language_info": {
   "name": "sql"
  }
 },
 "nbformat": 4,
 "nbformat_minor": 0
}
